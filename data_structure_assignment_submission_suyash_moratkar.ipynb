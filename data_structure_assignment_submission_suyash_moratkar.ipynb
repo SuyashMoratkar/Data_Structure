{
  "nbformat": 4,
  "nbformat_minor": 0,
  "metadata": {
    "colab": {
      "provenance": []
    },
    "kernelspec": {
      "name": "python3",
      "display_name": "Python 3"
    },
    "language_info": {
      "name": "python"
    }
  },
  "cells": [
    {
      "cell_type": "code",
      "execution_count": null,
      "metadata": {
        "colab": {
          "base_uri": "https://localhost:8080/"
        },
        "id": "5zdxxgm-YUb1",
        "outputId": "b103cbf2-9dcf-4210-ced2-231788be6ff6"
      },
      "outputs": [
        {
          "output_type": "stream",
          "name": "stdout",
          "text": [
            "Suyash Moratkar||Suyash||Moratkar||raktaroM hsayuS\n"
          ]
        }
      ],
      "source": [
        "# 1. Discuss string slicing and provide examples.\n",
        "\n",
        "'''\n",
        "Ans - String slicing is a way to create sub-strings of a string. We need to enter the starting and ending + 1 index of the required substring.\n",
        "example -\n",
        "'''\n",
        "full_name = \"Suyash Moratkar\"\n",
        "fisrt_name = full_name[:6]\n",
        "last_name = full_name[7:]\n",
        "\n",
        "# we can also use slicing concept to revers a string\n",
        "rev_name = full_name[::-1]\n",
        "\n",
        "print(full_name, fisrt_name, last_name, rev_name, sep = '||')\n"
      ]
    },
    {
      "cell_type": "code",
      "source": [
        "# 2. Explain the key features of lists in Python.\n",
        "\n",
        "'''\n",
        "Ans - The key features of Lists in Pyhton are -\n",
        "1. Mutable - It can be edited even after its creation.\n",
        "2. Ordered - The sequnece of the elements is maintained in a list.\n",
        "3. It can hold elements of different data types in the same list.\n",
        "'''\n",
        "generic_list = [1, \"Awesome\", True, [1,2,3], 5.56, (1,3,6,7)]"
      ],
      "metadata": {
        "id": "AaHB3fM2ZqHe"
      },
      "execution_count": null,
      "outputs": []
    },
    {
      "cell_type": "code",
      "source": [
        "# 3.  Describe how to access, modify, and delete elements in a list with examples\n",
        "\n",
        "'''\n",
        "Ans  - We can access, modify and delete elements with the help of indexes(both positive and negative, negative indexing starts from the last element of the list.)\n",
        "'''\n",
        "sample_list = [1,2,3,4,5,6,7,8,9]\n",
        "# Access 3rd element\n",
        "print(sample_list[2])\n",
        "\n",
        "# Modifying 3rd element\n",
        "sample_list[2] = 100\n",
        "print(sample_list)\n",
        "\n",
        "# To Add a new element at the last\n",
        "sample_list.append(11)\n",
        "print(sample_list)\n",
        "\n",
        "# To Add a new element at a particular index\n",
        "sample_list.insert(10, 15)\n",
        "print(sample_list)\n",
        "\n",
        "# To delete an element at 5th index\n",
        "sample_list.remove(4)\n",
        "print(sample_list)\n",
        "\n",
        "del sample_list[4]\n",
        "print(sample_list)\n",
        "\n",
        "# To delete last element\n",
        "sample_list.pop()\n",
        "print(sample_list)\n",
        "\n",
        "\n"
      ],
      "metadata": {
        "colab": {
          "base_uri": "https://localhost:8080/"
        },
        "id": "2F7EJEprfsb7",
        "outputId": "cd26ec2e-4468-4de4-e909-65b179d370ca"
      },
      "execution_count": null,
      "outputs": [
        {
          "output_type": "stream",
          "name": "stdout",
          "text": [
            "3\n",
            "[1, 2, 100, 4, 5, 6, 7, 8, 9]\n",
            "[1, 2, 100, 4, 5, 6, 7, 8, 9, 11]\n",
            "[1, 2, 100, 4, 5, 6, 7, 8, 9, 11, 15]\n",
            "[1, 2, 100, 5, 6, 7, 8, 9, 11, 15]\n",
            "[1, 2, 100, 5, 6, 7, 8, 9, 11]\n"
          ]
        }
      ]
    },
    {
      "cell_type": "code",
      "source": [
        "# 4.  Compare and contrast tuples and lists with examples.\n",
        "\n",
        "'''\n",
        "Ans - The major difference between tuple and list is that, Tuples are immutable and Lists are mutable.\n",
        "Due to this  difference we only store that data in tuples, which we don't intend to modify in future,\n",
        "for example personal details like Phone number.\n",
        "'''\n"
      ],
      "metadata": {
        "id": "tUtXoCZ8j03x"
      },
      "execution_count": null,
      "outputs": []
    },
    {
      "cell_type": "code",
      "source": [
        "# 5.  Describe the key features of sets and provide examples of their use.\n",
        "\n",
        "'''\n",
        "Ans - The key features of Sets are -\n",
        "1. Does not allow duplicate elements.\n",
        "2. The order of elements is not maintained.\n",
        "3. Mutable.\n",
        "4. It is used to find intersection, difference or union.\n",
        "'''\n",
        "\n",
        "# Examples\n",
        "s1 = {1,2,3,4,5}\n",
        "s2 = {4,5,6,7,8}\n",
        "\n",
        "print(s1.difference(s2))\n",
        "print(s2.difference(s1))\n",
        "print(s2.union(s1))\n"
      ],
      "metadata": {
        "id": "szCOQ4ZLMDsG"
      },
      "execution_count": null,
      "outputs": []
    },
    {
      "cell_type": "code",
      "source": [
        "#  6. Discuss the use cases of tuples and sets in Python programming\n",
        "\n",
        "'''\n",
        "Ans - The usecases of tuples are -\n",
        "1. To store data, that need not to be modified in future.\n",
        "\n",
        "\n",
        "The usecases of sets are -\n",
        "1. To store data, where duplicate entries are not allowed.\n",
        "2. To store data, when we frequenty need to find union or intersections, and perform similar operations.\n"
      ],
      "metadata": {
        "colab": {
          "base_uri": "https://localhost:8080/"
        },
        "id": "xi7_HpGTgJ98",
        "outputId": "86865e19-aaca-464f-ea61-c4e186104616"
      },
      "execution_count": null,
      "outputs": [
        {
          "output_type": "stream",
          "name": "stdout",
          "text": [
            "{1, 2, 3, 4, 5, 6, 7, 8}\n"
          ]
        }
      ]
    },
    {
      "cell_type": "code",
      "source": [
        "# 7.  Describe how to add, modify, and delete items in a dictionary with examples.\n",
        "\n",
        "'''\n",
        "Ans  - We can access, modify and delete elements with the help of keys. It is more like customised indexes.\n",
        "'''\n",
        "sample_dict = {\"name\": \"Suyash\", \"surname\": \"Moratkar\", \"DOB\": \"26/06/2000\"}\n",
        "# Adding\n",
        "sample_dict[\"city\"] = \"Nagpur\"\n",
        "sample_dict.update({\"state\": \"Maharashtra\"})\n",
        "print(sample_dict)\n",
        "\n",
        "# Modify\n",
        "sample_dict[\"city\"] = \"Raipur\"\n",
        "sample_dict.update({\"state\": \"Madhya Pradesh\"})\n",
        "print(sample_dict)\n",
        "\n",
        "# Delete\n",
        "sample_dict.pop(\"state\")\n",
        "del sample_dict[\"city\"]\n",
        "print(sample_dict)\n"
      ],
      "metadata": {
        "colab": {
          "base_uri": "https://localhost:8080/"
        },
        "id": "L-EekG0gNrXa",
        "outputId": "b3bb767a-a84c-4db0-9af7-49c90bf61a1c"
      },
      "execution_count": null,
      "outputs": [
        {
          "output_type": "stream",
          "name": "stdout",
          "text": [
            "{'name': 'Suyash', 'surname': 'Moratkar', 'DOB': '26/06/2000', 'city': 'Nagpur', 'state': 'Maharashtra'}\n",
            "{'name': 'Suyash', 'surname': 'Moratkar', 'DOB': '26/06/2000', 'city': 'Raipur', 'state': 'Madhya Pradesh'}\n",
            "{'name': 'Suyash', 'surname': 'Moratkar', 'DOB': '26/06/2000'}\n"
          ]
        }
      ]
    },
    {
      "cell_type": "code",
      "source": [
        "# 8.  Discuss the importance of dictionary keys being immutable and provide examples.\n",
        "\n",
        "'''\n",
        "Ans - Dictionary uses hash table implementation. This implementation calculates hash value according to the key, if the key changes,\n",
        "this hash value gets changed, and the mapping between key and value gets broken."
      ],
      "metadata": {
        "id": "OUG21vDCKImo"
      },
      "execution_count": null,
      "outputs": []
    }
  ]
}